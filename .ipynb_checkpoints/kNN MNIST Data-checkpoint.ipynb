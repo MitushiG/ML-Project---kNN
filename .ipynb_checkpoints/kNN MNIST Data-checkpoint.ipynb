{
 "cells": [
  {
   "cell_type": "code",
   "execution_count": 2,
   "id": "3ceac508-fcd4-4202-87c9-320ce91ac41e",
   "metadata": {},
   "outputs": [
    {
     "name": "stdout",
     "output_type": "stream",
     "text": [
      "Fetching MNIST data (this may take a while)...\n"
     ]
    },
    {
     "name": "stderr",
     "output_type": "stream",
     "text": [
      "/Users/mitushigoyal/anaconda3/lib/python3.10/site-packages/sklearn/datasets/_openml.py:932: FutureWarning: The default value of `parser` will change from `'liac-arff'` to `'auto'` in 1.4. You can set `parser='auto'` to silence this warning. Therefore, an `ImportError` will be raised from 1.4 if the dataset is dense and pandas is not installed. Note that the pandas parser may return different data types. See the Notes Section in fetch_openml's API doc for details.\n",
      "  warn(\n"
     ]
    },
    {
     "name": "stdout",
     "output_type": "stream",
     "text": [
      "MNIST data loaded: (70000, 784)\n"
     ]
    }
   ],
   "source": [
    "import numpy as np\n",
    "import matplotlib.pyplot as plt\n",
    "import seaborn as sns\n",
    "from sklearn.datasets import fetch_openml\n",
    "from sklearn.model_selection import train_test_split\n",
    "from sklearn.neighbors import KNeighborsClassifier\n",
    "from sklearn.metrics import accuracy_score, confusion_matrix\n",
    "\n",
    "# ----------------------------------------\n",
    "# Load full MNIST dataset (28x28, 70K samples)\n",
    "# ----------------------------------------\n",
    "print(\"Fetching MNIST data (this may take a while)...\")\n",
    "mnist = fetch_openml('mnist_784', version=1, as_frame=False)\n",
    "X, y = mnist[\"data\"], mnist[\"target\"].astype(int)  # y needs to be int, not string\n",
    "print(\"MNIST data loaded:\", X.shape)"
   ]
  },
  {
   "cell_type": "code",
   "execution_count": 4,
   "id": "e8d58436-d988-4446-b00b-19b5cf790338",
   "metadata": {},
   "outputs": [
    {
     "name": "stdout",
     "output_type": "stream",
     "text": [
      "Average accuracy for k = 1: 0.9722\n",
      "Average accuracy for k = 3: 0.9733\n",
      "Average accuracy for k = 5: 0.9721\n",
      "Average accuracy for k = 7: 0.9711\n",
      "Average accuracy for k = 9: 0.9695\n",
      "\n",
      " Best k: 3\n",
      " Best single-run accuracy: 0.974\n"
     ]
    },
    {
     "data": {
      "image/png": "[encoded data removed]",
      "text/plain": [
       "<Figure size 1000x800 with 1 Axes>"
      ]
     },
     "metadata": {},
     "output_type": "display_data"
    }
   ],
   "source": [
    "# ----------------------------------------\n",
    "# Define candidate k values and iterations\n",
    "# ----------------------------------------\n",
    "k_value_candidates = [1, 3, 5, 7, 9]\n",
    "number_of_iterations = 5\n",
    "\n",
    "best_k = None\n",
    "best_accuracy = 0.0\n",
    "conf_matrix_best = None\n",
    "\n",
    "# ----------------------------------------\n",
    "# Model Selection using Random Splits\n",
    "# ----------------------------------------\n",
    "for k in k_value_candidates:\n",
    "    accuracies = []\n",
    "\n",
    "    for i in range(number_of_iterations):\n",
    "        X_train, X_test, y_train, y_test = train_test_split(\n",
    "            X, y, test_size=0.2, stratify=y, random_state=i  # fixed random state for reproducibility\n",
    "        )\n",
    "        \n",
    "        model = KNeighborsClassifier(n_neighbors=k)\n",
    "        model.fit(X_train, y_train)\n",
    "        y_pred = model.predict(X_test)\n",
    "        \n",
    "        acc = accuracy_score(y_test, y_pred)\n",
    "        accuracies.append(acc)\n",
    "        \n",
    "        # Save confusion matrix only for best performing k\n",
    "        if acc > best_accuracy:\n",
    "            best_accuracy = acc\n",
    "            best_k = k\n",
    "            conf_matrix_best = confusion_matrix(y_test, y_pred)\n",
    "\n",
    "    print(f\"Average accuracy for k = {k}: {np.mean(accuracies):.4f}\")\n",
    "\n",
    "# ----------------------------------------\n",
    "# Final Results\n",
    "# ----------------------------------------\n",
    "print(\"\\n Best k:\", best_k)\n",
    "print(\" Best single-run accuracy:\", best_accuracy)\n",
    "\n",
    "# ----------------------------------------\n",
    "# Plot Confusion Matrix for Best k\n",
    "# ----------------------------------------\n",
    "plt.figure(figsize=(10, 8))\n",
    "sns.heatmap(conf_matrix_best, annot=True, fmt=\"d\", cmap=\"Blues\", cbar=False,\n",
    "            xticklabels=range(10), yticklabels=range(10))\n",
    "plt.xlabel(\"Predicted\")\n",
    "plt.ylabel(\"Actual\")\n",
    "plt.title(f\"Confusion Matrix for k = {best_k}\")\n",
    "plt.tight_layout()\n",
    "plt.show()"
   ]
  },
  {
   "cell_type": "code",
   "execution_count": null,
   "id": "9f2724ee-a5ed-44dc-ad57-f24b4a090614",
   "metadata": {},
   "outputs": [],
   "source": []
  }
 ],
 "metadata": {
  "kernelspec": {
   "display_name": "Python [conda env:base] *",
   "language": "python",
   "name": "conda-base-py"
  },
  "language_info": {
   "codemirror_mode": {
    "name": "ipython",
    "version": 3
   },
   "file_extension": ".py",
   "mimetype": "text/x-python",
   "name": "python",
   "nbconvert_exporter": "python",
   "pygments_lexer": "ipython3",
   "version": "3.10.16"
  }
 },
 "nbformat": 4,
 "nbformat_minor": 5
}
